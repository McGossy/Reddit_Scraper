{
 "cells": [
  {
   "cell_type": "code",
   "execution_count": 21,
   "metadata": {},
   "outputs": [],
   "source": [
    "import praw\n",
    "import json"
   ]
  },
  {
   "cell_type": "code",
   "execution_count": 35,
   "metadata": {},
   "outputs": [],
   "source": [
    "file = open('reddit_info.json')\n",
    "info = json.load(file)"
   ]
  },
  {
   "cell_type": "code",
   "execution_count": 38,
   "metadata": {},
   "outputs": [],
   "source": [
    "\n",
    "\n",
    "def create_reddit_object():\n",
    "    reddit = praw.Reddit(client_id = info[0]['client_id'],\n",
    "                        client_secret = info[0]['client_secret'],\n",
    "                        user_agent = info[0]['user_agent'],\n",
    "                        username = info[0]['username'],\n",
    "                        password = info[0]['password'])\n",
    "    return reddit"
   ]
  },
  {
   "cell_type": "code",
   "execution_count": 39,
   "metadata": {},
   "outputs": [],
   "source": [
    "reddit = create_reddit_object()\n",
    "\n",
    "subreddit = reddit.subreddit('popular')"
   ]
  },
  {
   "cell_type": "code",
   "execution_count": 40,
   "metadata": {},
   "outputs": [
    {
     "name": "stdout",
     "output_type": "stream",
     "text": [
      "Straight males of reddit, what’s the gayest thing you’ve ever done?\n",
      "[Postgame Thread] Georgia Defeats Cincinnati 24-21\n",
      "Trump’s legacy: $8 trillion-plus in added debt in one term\n",
      "It isn't even her window\n",
      "If gender is a social construct. Doesn't that mean being transgender is a social construct too?\n",
      "Dog days of Florida come to an end, with total demise of U.S. greyhound racing within sight\n",
      "Make election day a national holiday\n",
      "You dense mother f@#ker!\n",
      "Sounds like a fun time\n",
      "Cats can always spot the non cat person\n",
      "Should Mark Hamill be cancelled for his anti-Trump tweets? Star Wars fans on r/OutOfTheLoop are divided on the issue\n",
      "RIP MF DOOM. A master of wordplay & stupidly complex rhymes\n",
      "Hospital kicked out a male Karen because he refused to wear a mask.\n",
      "Walmart has a plan for your $600 stimulus check!\n",
      "Their dog hasn’t eaten well since they brought their baby home - dog kept taking food into the living room and leaving it there. Someone suggested the dog might be worried the baby isn’t visibly eating, so is “feeding” the baby. They tried giving the baby a bowl of food at the same time. It worked!\n",
      "The last image of Keith Sapsford, a 14 year old Australian boy who wanted to explore the world, so he snuck to a plane's wheel well. He fell as it opened in mid-air. The photographer was just testing his new lenses and was shocked upon developing the films.\n",
      "twice the meme، twice the effort\n",
      "Recreational use of marijuana now legal in Montana\n",
      "When a romantic partner is very responsive on some days and very unresponsive on other days, it can lead to more attachment issues than if the partner had average responsiveness - the first empirical evidence that responsiveness variability predicts attachment anxiety in romantic relationships.\n",
      "Apple knew a supplier was using child labor but took 3 years to fully cut ties, despite the company's promises to hold itself to the 'highest standards'\n",
      "My university sent me a wallet-sized diploma\n",
      "When the dealership lets a kid with 0 manual transmission experience test drive a Mazdaspeed 3.\n",
      "Indian Govt proposes to buy bulk subscriptions of all scientific journals, provide free access to all.\n",
      "In 1988, an Aboriginal man named Burnum Burnum visited the white cliffs of Dover and planted the Aboriginal flag, claiming England on behalf of his people.\n",
      "A Family Photo.\n"
     ]
    }
   ],
   "source": [
    "hot = subreddit.hot(limit = 25)\n",
    "\n",
    "for submission in hot:\n",
    "    print(submission.title)"
   ]
  },
  {
   "cell_type": "code",
   "execution_count": null,
   "metadata": {},
   "outputs": [],
   "source": []
  }
 ],
 "metadata": {
  "kernelspec": {
   "display_name": "Python 3",
   "language": "python",
   "name": "python3"
  },
  "language_info": {
   "codemirror_mode": {
    "name": "ipython",
    "version": 3
   },
   "file_extension": ".py",
   "mimetype": "text/x-python",
   "name": "python",
   "nbconvert_exporter": "python",
   "pygments_lexer": "ipython3",
   "version": "3.8.3"
  }
 },
 "nbformat": 4,
 "nbformat_minor": 4
}
